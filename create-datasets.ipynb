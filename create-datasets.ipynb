{
 "cells": [
  {
   "cell_type": "code",
   "execution_count": null,
   "metadata": {},
   "outputs": [],
   "source": [
    "import pandas as pd\n",
    "\n",
    "iris_data_file = '/Users/jvdzwaan/Downloads/iris.data'\n",
    "seed = 23\n",
    "\n",
    "iris = pd.read_csv(iris_data_file, header=None)\n",
    "iris.columns = ['sepal_length', 'sepal_width', 'petal_length', 'petal_width', 'class']"
   ]
  },
  {
   "cell_type": "code",
   "execution_count": null,
   "metadata": {},
   "outputs": [],
   "source": [
    "from sklearn.model_selection import train_test_split\n",
    "\n",
    "train_x, public_test_x, train_y, public_test_y = train_test_split(iris[['sepal_length', 'sepal_width', 'petal_length', 'petal_width']].values, list(iris['class']), test_size=15, random_state=seed)"
   ]
  },
  {
   "cell_type": "code",
   "execution_count": null,
   "metadata": {},
   "outputs": [],
   "source": [
    "train_x, private_test_x, train_y, private_test_y = train_test_split(train_x, train_y, test_size=15, random_state=seed)"
   ]
  },
  {
   "cell_type": "code",
   "execution_count": null,
   "metadata": {},
   "outputs": [],
   "source": [
    "public_test_y"
   ]
  },
  {
   "cell_type": "code",
   "execution_count": null,
   "metadata": {},
   "outputs": [],
   "source": [
    "private_test_y"
   ]
  },
  {
   "cell_type": "code",
   "execution_count": null,
   "metadata": {},
   "outputs": [],
   "source": [
    "from pathlib import Path\n",
    "\n",
    "def write_train(x, y, name):\n",
    "    df = pd.DataFrame(x)\n",
    "    df.columns = ['sepal_length', 'sepal_width', 'petal_length', 'petal_width']\n",
    "    df['class'] = y\n",
    "    #print(df)\n",
    "    df.to_csv(name, index=None)\n",
    "    \n",
    "def write_test_data(x, name):\n",
    "    df = pd.DataFrame(x)\n",
    "    df.columns = ['sepal_length', 'sepal_width', 'petal_length', 'petal_width']\n",
    "    #print(df)\n",
    "    df.to_csv(name, index=None)\n",
    "\n",
    "def write_test_gt(y, name):\n",
    "    df = pd.DataFrame(y)\n",
    "    df.columns = ['class']\n",
    "    #print(df)\n",
    "    df.to_csv(name, index=None)\n",
    "\n",
    "write_test_data(private_test_x, Path('data')/'iris_private_test_data.csv')\n",
    "write_test_gt(private_test_y, Path('data')/'iris_private_test_gt.csv')\n",
    "write_test_data(public_test_x, Path('data')/'iris_public_test_data.csv')\n",
    "write_test_gt(public_test_y, Path('data')/'iris_public_test_gt.csv')\n",
    "write_train(train_x, train_y, Path('data')/'iris_train.csv')"
   ]
  }
 ],
 "metadata": {
  "language_info": {
   "name": "python",
   "pygments_lexer": "ipython3"
  }
 },
 "nbformat": 4,
 "nbformat_minor": 2
}
